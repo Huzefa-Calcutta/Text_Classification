{
 "cells": [
  {
   "cell_type": "code",
   "execution_count": 1,
   "metadata": {},
   "outputs": [],
   "source": [
    "from model.model import * \n",
    "import configparser"
   ]
  },
  {
   "cell_type": "code",
   "execution_count": 2,
   "metadata": {},
   "outputs": [],
   "source": [
    "cfgParse = configparser.ConfigParser()\n",
    "cfgParse.read(\"model_train.cfg\")\n",
    "reddit_data_loc = str(cfgParse.get(\"input\", \"train_data\"))\n",
    "model_loc_folder = str(cfgParse.get(\"model\", \"folder\"))"
   ]
  },
  {
   "cell_type": "code",
   "execution_count": 3,
   "metadata": {},
   "outputs": [
    {
     "name": "stdout",
     "output_type": "stream",
     "text": [
      "Index(['text', 'depth'], dtype='object')\n"
     ]
    }
   ],
   "source": [
    "Multi_Naive_Bayes_Clf = NBClfReddit(data_loc=reddit_data_loc, dim_word_vec=300, depth_post_col='depth',\n",
    "                 empty_post_str_indicator='[deleted]', label_col='labels', annotator_col='annotators',\n",
    "                 test_size=0.2)"
   ]
  },
  {
   "cell_type": "code",
   "execution_count": 4,
   "metadata": {},
   "outputs": [
    {
     "name": "stdout",
     "output_type": "stream",
     "text": [
      "Index(['text', 'depth'], dtype='object')\n"
     ]
    }
   ],
   "source": [
    "Random_Forest_Clf = RandomForestClfReddit(data_loc=reddit_data_loc, dim_word_vec=300, depth_post_col='depth',\n",
    "                 empty_post_str_indicator='[deleted]', label_col='labels', annotator_col='annotators',\n",
    "                 test_size=0.2)"
   ]
  },
  {
   "cell_type": "code",
   "execution_count": 5,
   "metadata": {},
   "outputs": [
    {
     "name": "stdout",
     "output_type": "stream",
     "text": [
      "Index(['text', 'depth'], dtype='object')\n"
     ]
    }
   ],
   "source": [
    "SVM_Clf= SVMClfReddit(data_loc=reddit_data_loc, dim_word_vec=300, depth_post_col='depth',\n",
    "                 empty_post_str_indicator='[deleted]', label_col='labels', annotator_col='annotators',\n",
    "                 test_size=0.2)"
   ]
  },
  {
   "cell_type": "code",
   "execution_count": 6,
   "metadata": {
    "scrolled": false
   },
   "outputs": [
    {
     "name": "stdout",
     "output_type": "stream",
     "text": [
      "{'preprocessing__stem__do_stem': (True, False), 'feature_extraction_pipeline__approx_kernel_trans__kernel': ('linear', 'rbf', 'poly'), 'feature_extraction_pipeline__approx_kernel_trans__gamma': (0.001, 0.01, 0.1), 'clf__alpha': (0.01, 0.1, 0.5, 1, 2, 5), 'clf__l1_ratio': [0.0, 0.2, 0.4, 0.6000000000000001, 0.8, 1.0]}\n",
      "Randomized search for optimal hyper parameters\n",
      "Fitting 5 folds for each of 50 candidates, totalling 250 fits\n"
     ]
    },
    {
     "name": "stderr",
     "output_type": "stream",
     "text": [
      "[Parallel(n_jobs=16)]: Using backend LokyBackend with 16 concurrent workers.\n",
      "[Parallel(n_jobs=16)]: Done  18 tasks      | elapsed: 30.1min\n",
      "[Parallel(n_jobs=16)]: Done 168 tasks      | elapsed: 181.4min\n",
      "[Parallel(n_jobs=16)]: Done 250 out of 250 | elapsed: 249.6min finished\n"
     ]
    },
    {
     "name": "stdout",
     "output_type": "stream",
     "text": [
      "[Pipeline]  (step 1 of 2) Processing numerical_feat_gen, total= 1.8min\n",
      "[Pipeline]  (step 2 of 2) Processing approx_kernel_trans, total=   4.5s\n"
     ]
    },
    {
     "name": "stderr",
     "output_type": "stream",
     "text": [
      "[Parallel(n_jobs=1)]: Using backend SequentialBackend with 1 concurrent workers.\n"
     ]
    },
    {
     "name": "stdout",
     "output_type": "stream",
     "text": [
      "-- Epoch 1\n",
      "Norm: 0.00, NNZs: 1000, Bias: -1.001096, T: 114501, Avg. loss: 0.099802\n",
      "Total training time: 0.53 seconds.\n",
      "-- Epoch 2\n",
      "Norm: 0.00, NNZs: 1000, Bias: -1.000639, T: 229002, Avg. loss: 0.099773\n",
      "Total training time: 1.07 seconds.\n",
      "-- Epoch 3\n",
      "Norm: 0.00, NNZs: 1000, Bias: -1.000461, T: 343503, Avg. loss: 0.099773\n",
      "Total training time: 1.61 seconds.\n",
      "-- Epoch 4\n",
      "Norm: 0.00, NNZs: 1000, Bias: -1.000355, T: 458004, Avg. loss: 0.099773\n",
      "Total training time: 2.15 seconds.\n",
      "-- Epoch 5\n",
      "Norm: 0.00, NNZs: 1000, Bias: -1.000288, T: 572505, Avg. loss: 0.099772\n",
      "Total training time: 2.70 seconds.\n",
      "-- Epoch 6\n",
      "Norm: 0.00, NNZs: 1000, Bias: -1.000237, T: 687006, Avg. loss: 0.099772\n",
      "Total training time: 3.24 seconds.\n",
      "Convergence after 6 epochs took 3.24 seconds\n",
      "-- Epoch 1\n",
      "Norm: 0.00, NNZs: 1000, Bias: -1.000234, T: 114501, Avg. loss: 0.035818\n",
      "Total training time: 0.58 seconds.\n",
      "-- Epoch 2\n",
      "Norm: 0.00, NNZs: 1000, Bias: -1.000022, T: 229002, Avg. loss: 0.035790\n",
      "Total training time: 1.32 seconds.\n",
      "-- Epoch 3\n",
      "Norm: 0.00, NNZs: 1000, Bias: -1.000015, T: 343503, Avg. loss: 0.035790\n",
      "Total training time: 1.89 seconds.\n",
      "-- Epoch 4\n",
      "Norm: 0.00, NNZs: 1000, Bias: -0.999998, T: 458004, Avg. loss: 0.035790\n",
      "Total training time: 2.47 seconds.\n",
      "-- Epoch 5\n",
      "Norm: 0.00, NNZs: 1000, Bias: -0.999994, T: 572505, Avg. loss: 0.035790\n",
      "Total training time: 3.04 seconds.\n",
      "-- Epoch 6\n",
      "Norm: 0.00, NNZs: 1000, Bias: -0.999992, T: 687006, Avg. loss: 0.035790\n",
      "Total training time: 3.65 seconds.\n",
      "Convergence after 6 epochs took 3.65 seconds\n",
      "-- Epoch 1\n",
      "Norm: 0.04, NNZs: 1000, Bias: -0.999972, T: 114501, Avg. loss: 0.735813\n",
      "Total training time: 0.94 seconds.\n",
      "-- Epoch 2\n",
      "Norm: 0.04, NNZs: 1000, Bias: -0.999966, T: 229002, Avg. loss: 0.735723\n",
      "Total training time: 1.95 seconds.\n",
      "-- Epoch 3\n",
      "Norm: 0.04, NNZs: 1000, Bias: -0.999979, T: 343503, Avg. loss: 0.735722\n",
      "Total training time: 2.91 seconds.\n",
      "-- Epoch 4\n",
      "Norm: 0.03, NNZs: 1000, Bias: -0.999989, T: 458004, Avg. loss: 0.735721\n",
      "Total training time: 3.81 seconds.\n",
      "-- Epoch 5\n",
      "Norm: 0.03, NNZs: 1000, Bias: -0.999968, T: 572505, Avg. loss: 0.735720\n",
      "Total training time: 4.64 seconds.\n",
      "-- Epoch 6\n",
      "Norm: 0.03, NNZs: 1000, Bias: -0.999972, T: 687006, Avg. loss: 0.735720\n",
      "Total training time: 5.63 seconds.\n",
      "Convergence after 6 epochs took 5.63 seconds\n",
      "-- Epoch 1\n",
      "Norm: 0.00, NNZs: 1000, Bias: -1.000577, T: 114501, Avg. loss: 0.184662\n",
      "Total training time: 0.60 seconds.\n",
      "-- Epoch 2\n",
      "Norm: 0.00, NNZs: 1000, Bias: -1.000292, T: 229002, Avg. loss: 0.184629\n",
      "Total training time: 1.19 seconds.\n",
      "-- Epoch 3\n",
      "Norm: 0.00, NNZs: 1000, Bias: -1.000175, T: 343503, Avg. loss: 0.184629\n",
      "Total training time: 1.77 seconds.\n",
      "-- Epoch 4\n",
      "Norm: 0.00, NNZs: 1000, Bias: -1.000130, T: 458004, Avg. loss: 0.184628\n",
      "Total training time: 2.43 seconds.\n",
      "-- Epoch 5\n",
      "Norm: 0.00, NNZs: 1000, Bias: -1.000099, T: 572505, Avg. loss: 0.184628\n",
      "Total training time: 3.08 seconds.\n",
      "-- Epoch 6\n",
      "Norm: 0.00, NNZs: 1000, Bias: -1.000083, T: 687006, Avg. loss: 0.184628\n",
      "Total training time: 3.74 seconds.\n",
      "Convergence after 6 epochs took 3.74 seconds\n",
      "-- Epoch 1\n",
      "Norm: 0.00, NNZs: 1000, Bias: -1.000596, T: 114501, Avg. loss: 0.072932\n",
      "Total training time: 0.54 seconds.\n",
      "-- Epoch 2\n",
      "Norm: 0.00, NNZs: 1000, Bias: -1.000314, T: 229002, Avg. loss: 0.072909\n",
      "Total training time: 1.08 seconds.\n",
      "-- Epoch 3\n",
      "Norm: 0.00, NNZs: 1000, Bias: -1.000206, T: 343503, Avg. loss: 0.072908\n",
      "Total training time: 1.62 seconds.\n",
      "-- Epoch 4\n",
      "Norm: 0.00, NNZs: 1000, Bias: -1.000150, T: 458004, Avg. loss: 0.072908\n",
      "Total training time: 2.16 seconds.\n",
      "-- Epoch 5\n",
      "Norm: 0.00, NNZs: 1000, Bias: -1.000115, T: 572505, Avg. loss: 0.072908\n",
      "Total training time: 2.69 seconds.\n",
      "-- Epoch 6\n",
      "Norm: 0.00, NNZs: 1000, Bias: -1.000089, T: 687006, Avg. loss: 0.072908\n",
      "Total training time: 3.23 seconds.\n",
      "Convergence after 6 epochs took 3.23 seconds\n",
      "-- Epoch 1\n",
      "Norm: 0.00, NNZs: 1000, Bias: -1.000026, T: 114501, Avg. loss: 0.388142\n",
      "Total training time: 0.60 seconds.\n",
      "-- Epoch 2\n",
      "Norm: 0.00, NNZs: 1000, Bias: -0.999996, T: 229002, Avg. loss: 0.388071\n",
      "Total training time: 1.21 seconds.\n",
      "-- Epoch 3\n",
      "Norm: 0.00, NNZs: 1000, Bias: -1.000012, T: 343503, Avg. loss: 0.388069\n",
      "Total training time: 1.81 seconds.\n",
      "-- Epoch 4\n",
      "Norm: 0.00, NNZs: 1000, Bias: -0.999994, T: 458004, Avg. loss: 0.388068\n",
      "Total training time: 2.42 seconds.\n",
      "-- Epoch 5\n",
      "Norm: 0.00, NNZs: 1000, Bias: -1.000003, T: 572505, Avg. loss: 0.388068\n",
      "Total training time: 3.05 seconds.\n",
      "-- Epoch 6\n",
      "Norm: 0.00, NNZs: 1000, Bias: -1.000009, T: 687006, Avg. loss: 0.388068\n",
      "Total training time: 3.64 seconds.\n",
      "Convergence after 6 epochs took 3.64 seconds\n",
      "-- Epoch 1\n",
      "Norm: 0.00, NNZs: 1000, Bias: -1.000441, T: 114501, Avg. loss: 0.062964\n",
      "Total training time: 0.54 seconds.\n",
      "-- Epoch 2\n",
      "Norm: 0.00, NNZs: 1000, Bias: -1.000217, T: 229002, Avg. loss: 0.062935\n",
      "Total training time: 1.09 seconds.\n",
      "-- Epoch 3\n",
      "Norm: 0.00, NNZs: 1000, Bias: -1.000139, T: 343503, Avg. loss: 0.062934\n",
      "Total training time: 1.63 seconds.\n",
      "-- Epoch 4\n",
      "Norm: 0.00, NNZs: 1000, Bias: -1.000103, T: 458004, Avg. loss: 0.062934\n",
      "Total training time: 2.19 seconds.\n",
      "-- Epoch 5\n",
      "Norm: 0.00, NNZs: 1000, Bias: -1.000080, T: 572505, Avg. loss: 0.062934\n",
      "Total training time: 2.72 seconds.\n",
      "-- Epoch 6\n",
      "Norm: 0.00, NNZs: 1000, Bias: -1.000066, T: 687006, Avg. loss: 0.062934\n",
      "Total training time: 3.31 seconds.\n",
      "Convergence after 6 epochs took 3.31 seconds\n",
      "-- Epoch 1\n",
      "Norm: 0.00, NNZs: 1000, Bias: -1.000754, T: 114501, Avg. loss: 0.047075\n",
      "Total training time: 0.53 seconds.\n",
      "-- Epoch 2\n",
      "Norm: 0.00, NNZs: 1000, Bias: -1.000437, T: 229002, Avg. loss: 0.047057\n",
      "Total training time: 1.06 seconds.\n",
      "-- Epoch 3\n",
      "Norm: 0.00, NNZs: 1000, Bias: -1.000300, T: 343503, Avg. loss: 0.047057\n",
      "Total training time: 1.61 seconds.\n",
      "-- Epoch 4\n",
      "Norm: 0.00, NNZs: 1000, Bias: -1.000230, T: 458004, Avg. loss: 0.047057\n",
      "Total training time: 2.15 seconds.\n",
      "-- Epoch 5\n",
      "Norm: 0.00, NNZs: 1000, Bias: -1.000182, T: 572505, Avg. loss: 0.047057\n",
      "Total training time: 2.68 seconds.\n",
      "-- Epoch 6\n",
      "Norm: 0.00, NNZs: 1000, Bias: -1.000147, T: 687006, Avg. loss: 0.047057\n",
      "Total training time: 3.21 seconds.\n",
      "Convergence after 6 epochs took 3.21 seconds\n",
      "-- Epoch 1\n",
      "Norm: 0.00, NNZs: 1000, Bias: -1.000108, T: 114501, Avg. loss: 0.055826\n",
      "Total training time: 0.66 seconds.\n",
      "-- Epoch 2\n",
      "Norm: 0.00, NNZs: 1000, Bias: -1.000027, T: 229002, Avg. loss: 0.055808\n",
      "Total training time: 1.22 seconds.\n",
      "-- Epoch 3\n",
      "Norm: 0.00, NNZs: 1000, Bias: -1.000011, T: 343503, Avg. loss: 0.055808\n",
      "Total training time: 1.85 seconds.\n",
      "-- Epoch 4\n",
      "Norm: 0.00, NNZs: 1000, Bias: -1.000005, T: 458004, Avg. loss: 0.055808\n",
      "Total training time: 2.59 seconds.\n",
      "-- Epoch 5\n",
      "Norm: 0.00, NNZs: 1000, Bias: -1.000005, T: 572505, Avg. loss: 0.055808\n",
      "Total training time: 3.25 seconds.\n",
      "-- Epoch 6\n",
      "Norm: 0.00, NNZs: 1000, Bias: -1.000001, T: 687006, Avg. loss: 0.055808\n",
      "Total training time: 4.03 seconds.\n",
      "Convergence after 6 epochs took 4.03 seconds\n",
      "-- Epoch 1\n",
      "Norm: 0.02, NNZs: 1000, Bias: -0.999746, T: 114501, Avg. loss: 0.316544\n",
      "Total training time: 0.69 seconds.\n",
      "-- Epoch 2\n",
      "Norm: 0.02, NNZs: 1000, Bias: -0.999953, T: 229002, Avg. loss: 0.316494\n",
      "Total training time: 1.41 seconds.\n",
      "-- Epoch 3\n",
      "Norm: 0.02, NNZs: 1000, Bias: -0.999953, T: 343503, Avg. loss: 0.316494\n",
      "Total training time: 2.06 seconds.\n",
      "-- Epoch 4\n",
      "Norm: 0.02, NNZs: 1000, Bias: -0.999969, T: 458004, Avg. loss: 0.316493\n",
      "Total training time: 2.78 seconds.\n",
      "-- Epoch 5\n",
      "Norm: 0.02, NNZs: 1000, Bias: -0.999956, T: 572505, Avg. loss: 0.316494\n",
      "Total training time: 3.47 seconds.\n",
      "-- Epoch 6\n",
      "Norm: 0.02, NNZs: 1000, Bias: -0.999956, T: 687006, Avg. loss: 0.316493\n",
      "Total training time: 4.16 seconds.\n",
      "Convergence after 6 epochs took 4.16 seconds\n"
     ]
    },
    {
     "name": "stderr",
     "output_type": "stream",
     "text": [
      "[Parallel(n_jobs=1)]: Done  10 out of  10 | elapsed:   37.9s finished\n"
     ]
    }
   ],
   "source": [
    "SVM_Clf.fit(evaluation_metric='f1_weighted', hyperparameter_dict={'do_stem': (True, False),\n",
    "                    'kernel': ('linear','rbf', 'poly'), \n",
    "                   'gamma':(0.001, 0.01, 0.1), \n",
    "                   'alpha': (0.01, 0.1, 0.5, 1, 2, 5), \n",
    "                   'l1_ratio': list(np.arange(0, 1.1, 0.2))}, complete_search=False,  n_cpus = 16)"
   ]
  },
  {
   "cell_type": "code",
   "execution_count": 12,
   "metadata": {},
   "outputs": [
    {
     "name": "stdout",
     "output_type": "stream",
     "text": [
      "{'mean_fit_time': array([ 738.8336287 ,  742.01213431, 1467.49672952,  759.01244664,\n",
      "        763.2493288 , 1060.29638867,  743.10873914,  759.79597058,\n",
      "        754.2494216 ,  741.08837099,  951.80492129,  807.06020536,\n",
      "        760.44211974,  827.83718181,  757.46305413,  743.1378511 ,\n",
      "        801.36829739,  788.94260688,  777.48487344,  781.89377952,\n",
      "        777.47986388,  775.92807527,  753.37939048,  775.28713384,\n",
      "        771.69783554,  752.93408437,  759.73145885,  775.89148717,\n",
      "        762.40991201,  788.06454535, 1343.94064698,  755.78964491,\n",
      "        789.638169  ,  768.96015   ,  735.96588135, 1934.16119914,\n",
      "        771.48796301,  741.28915911,  652.60334716,  619.24549317,\n",
      "        608.93229766,  622.38720055,  628.88902459,  623.85904069,\n",
      "        609.68488059,  628.31026001,  623.96924224,  611.77277207,\n",
      "        620.02485738,  615.28205023]), 'std_fit_time': array([ 16.39954714,  16.28544871, 454.52524546,  11.55140108,\n",
      "        17.27293859, 220.36277198,   9.89600284,   8.12560826,\n",
      "        16.83808066,  12.40722796, 261.16282084,  27.66700962,\n",
      "         6.91183898,  46.76228682,  17.08840058,  14.62358967,\n",
      "         7.22931737,  13.57299523,  20.4924154 ,  14.29424642,\n",
      "        11.16145737,   9.61405168,   9.23847635,   9.14758889,\n",
      "        13.87089571,  11.90567891,  12.44379135,   8.03191995,\n",
      "        13.73529033,  22.8732053 , 246.51218392,  15.68668694,\n",
      "        44.08454333,  10.55036921,   9.03991087, 647.07037436,\n",
      "        20.13917075,  12.5405788 ,  27.92860398,  10.26253769,\n",
      "        13.66890061,   9.4581476 ,  11.38032305,   4.77163002,\n",
      "         8.05619423,  16.79307317,  15.19546149,   6.36941453,\n",
      "         7.89868912,  13.25920287]), 'mean_score_time': array([151.05690212, 150.98888807, 162.35040641, 163.66234503,\n",
      "       160.8209249 , 154.11423435, 149.08279467, 152.14271913,\n",
      "       160.98744349, 149.54080124, 151.17488418, 160.96886816,\n",
      "       166.89378657, 153.10977721, 148.57263498, 155.10419617,\n",
      "       153.33663225, 161.64381256, 166.1728837 , 160.80359058,\n",
      "       160.75998669, 162.05527844, 151.931146  , 159.42850852,\n",
      "       158.98530779, 161.64319077, 161.32825832, 161.79287205,\n",
      "       151.44302535, 164.38147211, 150.4614449 , 149.97152457,\n",
      "       157.05724921, 161.65142193, 150.56477246, 140.20055523,\n",
      "       149.23145275, 124.86629376, 123.31623898, 125.50670362,\n",
      "       125.34977589, 132.86807623, 136.65661249, 133.19859409,\n",
      "       125.19801073, 134.25354404, 135.02480397, 124.57884235,\n",
      "       131.23843398, 122.83789663]), 'std_score_time': array([10.80791026,  7.69641309, 12.58774502, 11.32189236,  8.32535691,\n",
      "        6.70563711,  9.56030929,  9.59550792, 13.52327184,  9.19348888,\n",
      "       10.61777615,  9.3004731 ,  7.35949932,  8.64057118,  9.43281644,\n",
      "        7.27627728,  9.06345302,  8.78342823,  9.08785523,  8.0877538 ,\n",
      "       10.47819889, 12.41849794, 10.14592023,  9.72368267,  9.7594272 ,\n",
      "        8.51529463,  7.45337378,  9.85319067,  5.4828775 , 10.10203069,\n",
      "        8.90283875,  6.92377417, 10.07232205, 10.8779767 ,  8.37923925,\n",
      "       15.09259727, 12.35990225,  7.94236793,  6.66451457,  8.05284331,\n",
      "        5.05428698,  8.0541614 ,  8.85529432,  7.99037764,  8.92899586,\n",
      "        8.14281013,  5.61602462,  7.55025104,  6.11434738,  6.02974763]), 'param_preprocessing__stem__do_stem': masked_array(data=[False, False, True, True, True, False, False, False,\n",
      "                   True, False, False, True, True, False, False, False,\n",
      "                   False, True, True, True, True, True, False, True, True,\n",
      "                   True, True, True, False, True, False, False, True,\n",
      "                   True, False, True, True, False, False, False, False,\n",
      "                   True, True, True, False, True, True, False, True,\n",
      "                   False],\n",
      "             mask=[False, False, False, False, False, False, False, False,\n",
      "                   False, False, False, False, False, False, False, False,\n",
      "                   False, False, False, False, False, False, False, False,\n",
      "                   False, False, False, False, False, False, False, False,\n",
      "                   False, False, False, False, False, False, False, False,\n",
      "                   False, False, False, False, False, False, False, False,\n",
      "                   False, False],\n",
      "       fill_value='?',\n",
      "            dtype=object), 'param_feature_extraction_pipeline__approx_kernel_trans__kernel': masked_array(data=['linear', 'linear', 'poly', 'linear', 'linear', 'poly',\n",
      "                   'linear', 'poly', 'linear', 'linear', 'poly', 'poly',\n",
      "                   'poly', 'poly', 'linear', 'rbf', 'poly', 'poly',\n",
      "                   'linear', 'poly', 'linear', 'poly', 'rbf', 'linear',\n",
      "                   'rbf', 'rbf', 'rbf', 'rbf', 'poly', 'poly', 'poly',\n",
      "                   'poly', 'linear', 'linear', 'rbf', 'poly', 'linear',\n",
      "                   'linear', 'rbf', 'rbf', 'rbf', 'poly', 'rbf', 'linear',\n",
      "                   'rbf', 'rbf', 'rbf', 'linear', 'linear', 'linear'],\n",
      "             mask=[False, False, False, False, False, False, False, False,\n",
      "                   False, False, False, False, False, False, False, False,\n",
      "                   False, False, False, False, False, False, False, False,\n",
      "                   False, False, False, False, False, False, False, False,\n",
      "                   False, False, False, False, False, False, False, False,\n",
      "                   False, False, False, False, False, False, False, False,\n",
      "                   False, False],\n",
      "       fill_value='?',\n",
      "            dtype=object), 'param_feature_extraction_pipeline__approx_kernel_trans__gamma': masked_array(data=[0.01, 0.1, 0.1, 0.01, 0.01, 0.01, 0.001, 0.001, 0.1,\n",
      "                   0.1, 0.1, 0.1, 0.001, 0.1, 0.01, 0.1, 0.1, 0.001,\n",
      "                   0.001, 0.1, 0.001, 0.001, 0.01, 0.1, 0.01, 0.1, 0.1,\n",
      "                   0.1, 0.001, 0.01, 0.1, 0.001, 0.1, 0.01, 0.01, 0.1,\n",
      "                   0.1, 0.1, 0.01, 0.001, 0.01, 0.001, 0.001, 0.01, 0.01,\n",
      "                   0.1, 0.01, 0.01, 0.001, 0.1],\n",
      "             mask=[False, False, False, False, False, False, False, False,\n",
      "                   False, False, False, False, False, False, False, False,\n",
      "                   False, False, False, False, False, False, False, False,\n",
      "                   False, False, False, False, False, False, False, False,\n",
      "                   False, False, False, False, False, False, False, False,\n",
      "                   False, False, False, False, False, False, False, False,\n",
      "                   False, False],\n",
      "       fill_value='?',\n",
      "            dtype=object), 'param_clf__l1_ratio': masked_array(data=[0.2, 0.4, 1.0, 1.0, 0.2, 0.8, 0.4, 0.0, 0.4, 0.4,\n",
      "                   0.6000000000000001, 0.0, 1.0, 0.0, 1.0, 1.0, 0.0, 0.0,\n",
      "                   0.8, 0.2, 0.4, 0.0, 0.0, 0.4, 0.4, 0.2, 1.0, 0.2, 0.0,\n",
      "                   0.6000000000000001, 0.8, 0.2, 0.8, 0.2, 0.0, 1.0, 1.0,\n",
      "                   0.2, 0.6000000000000001, 0.0, 0.2, 0.2, 0.0,\n",
      "                   0.6000000000000001, 0.4, 0.4, 0.4, 0.8, 0.2, 0.2],\n",
      "             mask=[False, False, False, False, False, False, False, False,\n",
      "                   False, False, False, False, False, False, False, False,\n",
      "                   False, False, False, False, False, False, False, False,\n",
      "                   False, False, False, False, False, False, False, False,\n",
      "                   False, False, False, False, False, False, False, False,\n",
      "                   False, False, False, False, False, False, False, False,\n",
      "                   False, False],\n",
      "       fill_value='?',\n",
      "            dtype=object), 'param_clf__alpha': masked_array(data=[0.1, 0.1, 2, 1, 1, 0.5, 5, 0.5, 0.1, 1, 5, 5, 0.5, 2,\n",
      "                   0.01, 0.1, 0.1, 1, 2, 5, 5, 2, 0.5, 0.5, 2, 0.1, 0.5,\n",
      "                   2, 5, 1, 0.1, 0.5, 5, 0.01, 0.1, 0.01, 1, 2, 1, 0.01,\n",
      "                   1, 2, 0.5, 1, 0.1, 2, 0.5, 2, 1, 0.01],\n",
      "             mask=[False, False, False, False, False, False, False, False,\n",
      "                   False, False, False, False, False, False, False, False,\n",
      "                   False, False, False, False, False, False, False, False,\n",
      "                   False, False, False, False, False, False, False, False,\n",
      "                   False, False, False, False, False, False, False, False,\n",
      "                   False, False, False, False, False, False, False, False,\n",
      "                   False, False],\n",
      "       fill_value='?',\n",
      "            dtype=object), 'params': [{'preprocessing__stem__do_stem': False, 'feature_extraction_pipeline__approx_kernel_trans__kernel': 'linear', 'feature_extraction_pipeline__approx_kernel_trans__gamma': 0.01, 'clf__l1_ratio': 0.2, 'clf__alpha': 0.1}, {'preprocessing__stem__do_stem': False, 'feature_extraction_pipeline__approx_kernel_trans__kernel': 'linear', 'feature_extraction_pipeline__approx_kernel_trans__gamma': 0.1, 'clf__l1_ratio': 0.4, 'clf__alpha': 0.1}, {'preprocessing__stem__do_stem': True, 'feature_extraction_pipeline__approx_kernel_trans__kernel': 'poly', 'feature_extraction_pipeline__approx_kernel_trans__gamma': 0.1, 'clf__l1_ratio': 1.0, 'clf__alpha': 2}, {'preprocessing__stem__do_stem': True, 'feature_extraction_pipeline__approx_kernel_trans__kernel': 'linear', 'feature_extraction_pipeline__approx_kernel_trans__gamma': 0.01, 'clf__l1_ratio': 1.0, 'clf__alpha': 1}, {'preprocessing__stem__do_stem': True, 'feature_extraction_pipeline__approx_kernel_trans__kernel': 'linear', 'feature_extraction_pipeline__approx_kernel_trans__gamma': 0.01, 'clf__l1_ratio': 0.2, 'clf__alpha': 1}, {'preprocessing__stem__do_stem': False, 'feature_extraction_pipeline__approx_kernel_trans__kernel': 'poly', 'feature_extraction_pipeline__approx_kernel_trans__gamma': 0.01, 'clf__l1_ratio': 0.8, 'clf__alpha': 0.5}, {'preprocessing__stem__do_stem': False, 'feature_extraction_pipeline__approx_kernel_trans__kernel': 'linear', 'feature_extraction_pipeline__approx_kernel_trans__gamma': 0.001, 'clf__l1_ratio': 0.4, 'clf__alpha': 5}, {'preprocessing__stem__do_stem': False, 'feature_extraction_pipeline__approx_kernel_trans__kernel': 'poly', 'feature_extraction_pipeline__approx_kernel_trans__gamma': 0.001, 'clf__l1_ratio': 0.0, 'clf__alpha': 0.5}, {'preprocessing__stem__do_stem': True, 'feature_extraction_pipeline__approx_kernel_trans__kernel': 'linear', 'feature_extraction_pipeline__approx_kernel_trans__gamma': 0.1, 'clf__l1_ratio': 0.4, 'clf__alpha': 0.1}, {'preprocessing__stem__do_stem': False, 'feature_extraction_pipeline__approx_kernel_trans__kernel': 'linear', 'feature_extraction_pipeline__approx_kernel_trans__gamma': 0.1, 'clf__l1_ratio': 0.4, 'clf__alpha': 1}, {'preprocessing__stem__do_stem': False, 'feature_extraction_pipeline__approx_kernel_trans__kernel': 'poly', 'feature_extraction_pipeline__approx_kernel_trans__gamma': 0.1, 'clf__l1_ratio': 0.6000000000000001, 'clf__alpha': 5}, {'preprocessing__stem__do_stem': True, 'feature_extraction_pipeline__approx_kernel_trans__kernel': 'poly', 'feature_extraction_pipeline__approx_kernel_trans__gamma': 0.1, 'clf__l1_ratio': 0.0, 'clf__alpha': 5}, {'preprocessing__stem__do_stem': True, 'feature_extraction_pipeline__approx_kernel_trans__kernel': 'poly', 'feature_extraction_pipeline__approx_kernel_trans__gamma': 0.001, 'clf__l1_ratio': 1.0, 'clf__alpha': 0.5}, {'preprocessing__stem__do_stem': False, 'feature_extraction_pipeline__approx_kernel_trans__kernel': 'poly', 'feature_extraction_pipeline__approx_kernel_trans__gamma': 0.1, 'clf__l1_ratio': 0.0, 'clf__alpha': 2}, {'preprocessing__stem__do_stem': False, 'feature_extraction_pipeline__approx_kernel_trans__kernel': 'linear', 'feature_extraction_pipeline__approx_kernel_trans__gamma': 0.01, 'clf__l1_ratio': 1.0, 'clf__alpha': 0.01}, {'preprocessing__stem__do_stem': False, 'feature_extraction_pipeline__approx_kernel_trans__kernel': 'rbf', 'feature_extraction_pipeline__approx_kernel_trans__gamma': 0.1, 'clf__l1_ratio': 1.0, 'clf__alpha': 0.1}, {'preprocessing__stem__do_stem': False, 'feature_extraction_pipeline__approx_kernel_trans__kernel': 'poly', 'feature_extraction_pipeline__approx_kernel_trans__gamma': 0.1, 'clf__l1_ratio': 0.0, 'clf__alpha': 0.1}, {'preprocessing__stem__do_stem': True, 'feature_extraction_pipeline__approx_kernel_trans__kernel': 'poly', 'feature_extraction_pipeline__approx_kernel_trans__gamma': 0.001, 'clf__l1_ratio': 0.0, 'clf__alpha': 1}, {'preprocessing__stem__do_stem': True, 'feature_extraction_pipeline__approx_kernel_trans__kernel': 'linear', 'feature_extraction_pipeline__approx_kernel_trans__gamma': 0.001, 'clf__l1_ratio': 0.8, 'clf__alpha': 2}, {'preprocessing__stem__do_stem': True, 'feature_extraction_pipeline__approx_kernel_trans__kernel': 'poly', 'feature_extraction_pipeline__approx_kernel_trans__gamma': 0.1, 'clf__l1_ratio': 0.2, 'clf__alpha': 5}, {'preprocessing__stem__do_stem': True, 'feature_extraction_pipeline__approx_kernel_trans__kernel': 'linear', 'feature_extraction_pipeline__approx_kernel_trans__gamma': 0.001, 'clf__l1_ratio': 0.4, 'clf__alpha': 5}, {'preprocessing__stem__do_stem': True, 'feature_extraction_pipeline__approx_kernel_trans__kernel': 'poly', 'feature_extraction_pipeline__approx_kernel_trans__gamma': 0.001, 'clf__l1_ratio': 0.0, 'clf__alpha': 2}, {'preprocessing__stem__do_stem': False, 'feature_extraction_pipeline__approx_kernel_trans__kernel': 'rbf', 'feature_extraction_pipeline__approx_kernel_trans__gamma': 0.01, 'clf__l1_ratio': 0.0, 'clf__alpha': 0.5}, {'preprocessing__stem__do_stem': True, 'feature_extraction_pipeline__approx_kernel_trans__kernel': 'linear', 'feature_extraction_pipeline__approx_kernel_trans__gamma': 0.1, 'clf__l1_ratio': 0.4, 'clf__alpha': 0.5}, {'preprocessing__stem__do_stem': True, 'feature_extraction_pipeline__approx_kernel_trans__kernel': 'rbf', 'feature_extraction_pipeline__approx_kernel_trans__gamma': 0.01, 'clf__l1_ratio': 0.4, 'clf__alpha': 2}, {'preprocessing__stem__do_stem': True, 'feature_extraction_pipeline__approx_kernel_trans__kernel': 'rbf', 'feature_extraction_pipeline__approx_kernel_trans__gamma': 0.1, 'clf__l1_ratio': 0.2, 'clf__alpha': 0.1}, {'preprocessing__stem__do_stem': True, 'feature_extraction_pipeline__approx_kernel_trans__kernel': 'rbf', 'feature_extraction_pipeline__approx_kernel_trans__gamma': 0.1, 'clf__l1_ratio': 1.0, 'clf__alpha': 0.5}, {'preprocessing__stem__do_stem': True, 'feature_extraction_pipeline__approx_kernel_trans__kernel': 'rbf', 'feature_extraction_pipeline__approx_kernel_trans__gamma': 0.1, 'clf__l1_ratio': 0.2, 'clf__alpha': 2}, {'preprocessing__stem__do_stem': False, 'feature_extraction_pipeline__approx_kernel_trans__kernel': 'poly', 'feature_extraction_pipeline__approx_kernel_trans__gamma': 0.001, 'clf__l1_ratio': 0.0, 'clf__alpha': 5}, {'preprocessing__stem__do_stem': True, 'feature_extraction_pipeline__approx_kernel_trans__kernel': 'poly', 'feature_extraction_pipeline__approx_kernel_trans__gamma': 0.01, 'clf__l1_ratio': 0.6000000000000001, 'clf__alpha': 1}, {'preprocessing__stem__do_stem': False, 'feature_extraction_pipeline__approx_kernel_trans__kernel': 'poly', 'feature_extraction_pipeline__approx_kernel_trans__gamma': 0.1, 'clf__l1_ratio': 0.8, 'clf__alpha': 0.1}, {'preprocessing__stem__do_stem': False, 'feature_extraction_pipeline__approx_kernel_trans__kernel': 'poly', 'feature_extraction_pipeline__approx_kernel_trans__gamma': 0.001, 'clf__l1_ratio': 0.2, 'clf__alpha': 0.5}, {'preprocessing__stem__do_stem': True, 'feature_extraction_pipeline__approx_kernel_trans__kernel': 'linear', 'feature_extraction_pipeline__approx_kernel_trans__gamma': 0.1, 'clf__l1_ratio': 0.8, 'clf__alpha': 5}, {'preprocessing__stem__do_stem': True, 'feature_extraction_pipeline__approx_kernel_trans__kernel': 'linear', 'feature_extraction_pipeline__approx_kernel_trans__gamma': 0.01, 'clf__l1_ratio': 0.2, 'clf__alpha': 0.01}, {'preprocessing__stem__do_stem': False, 'feature_extraction_pipeline__approx_kernel_trans__kernel': 'rbf', 'feature_extraction_pipeline__approx_kernel_trans__gamma': 0.01, 'clf__l1_ratio': 0.0, 'clf__alpha': 0.1}, {'preprocessing__stem__do_stem': True, 'feature_extraction_pipeline__approx_kernel_trans__kernel': 'poly', 'feature_extraction_pipeline__approx_kernel_trans__gamma': 0.1, 'clf__l1_ratio': 1.0, 'clf__alpha': 0.01}, {'preprocessing__stem__do_stem': True, 'feature_extraction_pipeline__approx_kernel_trans__kernel': 'linear', 'feature_extraction_pipeline__approx_kernel_trans__gamma': 0.1, 'clf__l1_ratio': 1.0, 'clf__alpha': 1}, {'preprocessing__stem__do_stem': False, 'feature_extraction_pipeline__approx_kernel_trans__kernel': 'linear', 'feature_extraction_pipeline__approx_kernel_trans__gamma': 0.1, 'clf__l1_ratio': 0.2, 'clf__alpha': 2}, {'preprocessing__stem__do_stem': False, 'feature_extraction_pipeline__approx_kernel_trans__kernel': 'rbf', 'feature_extraction_pipeline__approx_kernel_trans__gamma': 0.01, 'clf__l1_ratio': 0.6000000000000001, 'clf__alpha': 1}, {'preprocessing__stem__do_stem': False, 'feature_extraction_pipeline__approx_kernel_trans__kernel': 'rbf', 'feature_extraction_pipeline__approx_kernel_trans__gamma': 0.001, 'clf__l1_ratio': 0.0, 'clf__alpha': 0.01}, {'preprocessing__stem__do_stem': False, 'feature_extraction_pipeline__approx_kernel_trans__kernel': 'rbf', 'feature_extraction_pipeline__approx_kernel_trans__gamma': 0.01, 'clf__l1_ratio': 0.2, 'clf__alpha': 1}, {'preprocessing__stem__do_stem': True, 'feature_extraction_pipeline__approx_kernel_trans__kernel': 'poly', 'feature_extraction_pipeline__approx_kernel_trans__gamma': 0.001, 'clf__l1_ratio': 0.2, 'clf__alpha': 2}, {'preprocessing__stem__do_stem': True, 'feature_extraction_pipeline__approx_kernel_trans__kernel': 'rbf', 'feature_extraction_pipeline__approx_kernel_trans__gamma': 0.001, 'clf__l1_ratio': 0.0, 'clf__alpha': 0.5}, {'preprocessing__stem__do_stem': True, 'feature_extraction_pipeline__approx_kernel_trans__kernel': 'linear', 'feature_extraction_pipeline__approx_kernel_trans__gamma': 0.01, 'clf__l1_ratio': 0.6000000000000001, 'clf__alpha': 1}, {'preprocessing__stem__do_stem': False, 'feature_extraction_pipeline__approx_kernel_trans__kernel': 'rbf', 'feature_extraction_pipeline__approx_kernel_trans__gamma': 0.01, 'clf__l1_ratio': 0.4, 'clf__alpha': 0.1}, {'preprocessing__stem__do_stem': True, 'feature_extraction_pipeline__approx_kernel_trans__kernel': 'rbf', 'feature_extraction_pipeline__approx_kernel_trans__gamma': 0.1, 'clf__l1_ratio': 0.4, 'clf__alpha': 2}, {'preprocessing__stem__do_stem': True, 'feature_extraction_pipeline__approx_kernel_trans__kernel': 'rbf', 'feature_extraction_pipeline__approx_kernel_trans__gamma': 0.01, 'clf__l1_ratio': 0.4, 'clf__alpha': 0.5}, {'preprocessing__stem__do_stem': False, 'feature_extraction_pipeline__approx_kernel_trans__kernel': 'linear', 'feature_extraction_pipeline__approx_kernel_trans__gamma': 0.01, 'clf__l1_ratio': 0.8, 'clf__alpha': 2}, {'preprocessing__stem__do_stem': True, 'feature_extraction_pipeline__approx_kernel_trans__kernel': 'linear', 'feature_extraction_pipeline__approx_kernel_trans__gamma': 0.001, 'clf__l1_ratio': 0.2, 'clf__alpha': 1}, {'preprocessing__stem__do_stem': False, 'feature_extraction_pipeline__approx_kernel_trans__kernel': 'linear', 'feature_extraction_pipeline__approx_kernel_trans__gamma': 0.1, 'clf__l1_ratio': 0.2, 'clf__alpha': 0.01}], 'split0_test_score': array([0.25592112, 0.12306881, 0.26231102, 0.0630632 , 0.04330076,\n",
      "       0.00474446, 0.01559956, 0.36070895, 0.00583996, 0.19809794,\n",
      "       0.2082331 , 0.42210895, 0.04330076, 0.41964844, 0.33649677,\n",
      "       0.19809794, 0.33126249, 0.41282116, 0.19809794, 0.19801117,\n",
      "       0.19809794, 0.41578496, 0.4144999 , 0.04330076, 0.01559956,\n",
      "       0.19809794, 0.19809794, 0.19809794, 0.36774432, 0.19809794,\n",
      "       0.14897619, 0.00474446, 0.19809794, 0.37726567, 0.38260124,\n",
      "       0.28073327, 0.04330076, 0.04330076, 0.0630632 , 0.46494451,\n",
      "       0.04330076, 0.19809794, 0.37465093, 0.19809794, 0.19809794,\n",
      "       0.19809794, 0.19809794, 0.01559956, 0.04330076, 0.38850565]), 'split1_test_score': array([0.30760158, 0.11975456, 0.21462475, 0.19809794, 0.19809794,\n",
      "       0.07948355, 0.19809794, 0.38709454, 0.20577858, 0.19809794,\n",
      "       0.03915213, 0.19095191, 0.08648414, 0.36601977, 0.31022657,\n",
      "       0.0630632 , 0.34396416, 0.39804793, 0.0630632 , 0.1924446 ,\n",
      "       0.19809794, 0.35972647, 0.43585635, 0.00062966, 0.00474446,\n",
      "       0.19809794, 0.19809794, 0.19809794, 0.1982036 , 0.22978171,\n",
      "       0.2514121 , 0.00151459, 0.19809794, 0.43354631, 0.43862011,\n",
      "       0.32292929, 0.19809794, 0.04330076, 0.01559956, 0.43798658,\n",
      "       0.19809794, 0.19809794, 0.35567678, 0.19809794, 0.0630632 ,\n",
      "       0.0630632 , 0.01559956, 0.0630632 , 0.19809794, 0.33678514]), 'split2_test_score': array([0.31387995, 0.09962485, 0.20277846, 0.19814286, 0.06305231,\n",
      "       0.2125284 , 0.06305231, 0.44587432, 0.01643725, 0.19814286,\n",
      "       0.18323849, 0.19591315, 0.00108251, 0.28935541, 0.32660047,\n",
      "       0.19814286, 0.39221688, 0.42940402, 0.06305231, 0.18428228,\n",
      "       0.19814286, 0.34339386, 0.44768617, 0.06305231, 0.06305231,\n",
      "       0.19814286, 0.19814286, 0.19814286, 0.32727305, 0.0544945 ,\n",
      "       0.28896074, 0.01560348, 0.19814286, 0.34161665, 0.37831711,\n",
      "       0.22272229, 0.01560348, 0.06305231, 0.01560348, 0.42228385,\n",
      "       0.19814286, 0.19814286, 0.35924004, 0.04328908, 0.06305231,\n",
      "       0.19814286, 0.19814286, 0.19814286, 0.00473758, 0.36891663]), 'split3_test_score': array([0.2551885 , 0.19815784, 0.24965138, 0.19815784, 0.19815784,\n",
      "       0.06950702, 0.19815784, 0.36042929, 0.06305737, 0.00191698,\n",
      "       0.1818536 , 0.22203575, 0.0432926 , 0.32753198, 0.24287654,\n",
      "       0.0432926 , 0.28515891, 0.43530469, 0.19815784, 0.19137855,\n",
      "       0.19815784, 0.34402885, 0.36255386, 0.19815784, 0.19815784,\n",
      "       0.01560478, 0.19815784, 0.01560478, 0.4367673 , 0.20029718,\n",
      "       0.19301922, 0.19938218, 0.19815784, 0.39664705, 0.45099699,\n",
      "       0.27030347, 0.06305737, 0.0432926 , 0.19815784, 0.33621913,\n",
      "       0.0432926 , 0.06305737, 0.40241297, 0.06305737, 0.06305737,\n",
      "       0.01560478, 0.0432926 , 0.19815784, 0.01560478, 0.36241425]), 'split4_test_score': array([0.22570897, 0.04330317, 0.16964039, 0.19820278, 0.00151551,\n",
      "       0.10724129, 0.0156087 , 0.35048436, 0.04330317, 0.19820278,\n",
      "       0.18367303, 0.32135846, 0.06307255, 0.22615649, 0.33107896,\n",
      "       0.06307255, 0.42541898, 0.32911865, 0.19820278, 0.18855414,\n",
      "       0.19820278, 0.34981407, 0.41298172, 0.06307255, 0.19820278,\n",
      "       0.04330317, 0.19820278, 0.04330317, 0.31599662, 0.10472363,\n",
      "       0.21065105, 0.19820278, 0.000627  , 0.34659672, 0.35685501,\n",
      "       0.25985885, 0.0156087 , 0.19820278, 0.04330317, 0.34374075,\n",
      "       0.19820278, 0.00151551, 0.35180194, 0.04330317, 0.19820278,\n",
      "       0.19820278, 0.00191747, 0.06307255, 0.19820278, 0.43389471]), 'mean_test_score': array([0.2716623 , 0.11678395, 0.21980367, 0.17112962, 0.10082853,\n",
      "       0.09469797, 0.09810574, 0.38091917, 0.06688616, 0.15889375,\n",
      "       0.15922716, 0.27047418, 0.04744692, 0.3257494 , 0.30945642,\n",
      "       0.1131371 , 0.35560152, 0.40094173, 0.14411174, 0.19093445,\n",
      "       0.19813987, 0.36255157, 0.41471666, 0.0736392 , 0.09594243,\n",
      "       0.13065693, 0.19813987, 0.13065693, 0.32919408, 0.15748342,\n",
      "       0.2186034 , 0.08388027, 0.15863196, 0.37913684, 0.4014797 ,\n",
      "       0.27131144, 0.06713829, 0.07822412, 0.06714368, 0.40104018,\n",
      "       0.13620522, 0.13179095, 0.36875664, 0.10917646, 0.11709307,\n",
      "       0.13462092, 0.09141444, 0.10760439, 0.09198723, 0.37810065]), 'std_test_score': array([3.37775423e-02, 4.97243598e-02, 3.32581058e-02, 5.40373475e-02,\n",
      "       8.18940062e-02, 6.78231165e-02, 8.34876153e-02, 3.46747704e-02,\n",
      "       7.22998488e-02, 7.84858270e-02, 6.08401349e-02, 8.92352727e-02,\n",
      "       2.81151056e-02, 6.58553351e-02, 3.44263726e-02, 6.97665298e-02,\n",
      "       4.87935734e-02, 3.82046267e-02, 6.61834442e-02, 4.52724909e-03,\n",
      "       3.95116420e-05, 2.72559167e-02, 2.91814717e-02, 6.63013916e-02,\n",
      "       8.57418304e-02, 8.30874079e-02, 3.95116420e-05, 8.30874079e-02,\n",
      "       7.79693913e-02, 6.64831645e-02, 4.81517201e-02, 9.39330491e-02,\n",
      "       7.89934275e-02, 3.38740684e-02, 3.66479204e-02, 3.23930503e-02,\n",
      "       6.78941878e-02, 6.04684209e-02, 6.79149756e-02, 5.17395906e-02,\n",
      "       7.58617235e-02, 8.35338060e-02, 1.85284298e-02, 7.29691111e-02,\n",
      "       6.61813220e-02, 7.92363187e-02, 8.81431165e-02, 7.59334526e-02,\n",
      "       8.75872202e-02, 3.24291827e-02]), 'rank_test_score': array([14, 34, 17, 22, 38, 41, 39,  5, 49, 24, 23, 16, 50, 12, 13, 35, 10,\n",
      "        4, 27, 21, 19,  9,  1, 46, 40, 31, 19, 31, 11, 26, 18, 44, 25,  6,\n",
      "        2, 15, 48, 45, 47,  3, 28, 30,  8, 36, 33, 29, 43, 37, 42,  7],\n",
      "      dtype=int32)}\n"
     ]
    }
   ],
   "source": [
    "print(SVM_Clf.cross_val_result_summary)"
   ]
  },
  {
   "cell_type": "code",
   "execution_count": 13,
   "metadata": {},
   "outputs": [
    {
     "name": "stdout",
     "output_type": "stream",
     "text": [
      "0.41471666450799\n"
     ]
    }
   ],
   "source": [
    "print(SVM_Clf.best_score)"
   ]
  },
  {
   "cell_type": "code",
   "execution_count": 16,
   "metadata": {},
   "outputs": [],
   "source": [
    "SVM_Clf.save_model(\"svm_clf.pkl\")"
   ]
  },
  {
   "cell_type": "code",
   "execution_count": null,
   "metadata": {
    "scrolled": false
   },
   "outputs": [
    {
     "name": "stdout",
     "output_type": "stream",
     "text": [
      "{'preprocessing__stem__do_stem': (True, False), 'clf__max_depth': (2, 4, 8, 12)}\n",
      "Grid search for optimal hyper parameters\n",
      "Fitting 5 folds for each of 8 candidates, totalling 40 fits\n"
     ]
    },
    {
     "name": "stderr",
     "output_type": "stream",
     "text": [
      "[Parallel(n_jobs=16)]: Using backend LokyBackend with 16 concurrent workers.\n",
      "[Parallel(n_jobs=16)]: Done  40 out of  40 | elapsed: 34.9min finished\n"
     ]
    }
   ],
   "source": [
    "Random_Forest_Clf.fit(evaluation_metric = 'f1_weighted', hyperparameter_dict={'do_stem':(True,False),'max_depth':(2,4,8,12)}, complete_search=True, n_cpus = 16) "
   ]
  },
  {
   "cell_type": "code",
   "execution_count": 19,
   "metadata": {},
   "outputs": [
    {
     "name": "stdout",
     "output_type": "stream",
     "text": [
      "{'mean_fit_time': array([591.48102198, 570.86216998, 590.13402801, 564.05442877,\n",
      "       580.83040218, 566.10680833, 579.75298753, 564.21976962]), 'std_fit_time': array([11.55415038,  7.80293627, 11.57290179, 18.87453395, 15.08577946,\n",
      "        7.64066109, 14.03562093, 10.94578593]), 'mean_score_time': array([129.9362833 , 120.64004517, 130.22217965, 120.98548932,\n",
      "       130.72868681, 121.12322845, 129.56485233, 119.9836719 ]), 'std_score_time': array([7.8341549 , 8.17859415, 7.05991204, 6.31680072, 6.22121537,\n",
      "       7.43819445, 7.50871579, 6.66411207]), 'param_clf__max_depth': masked_array(data=[2, 2, 4, 4, 8, 8, 12, 12],\n",
      "             mask=[False, False, False, False, False, False, False, False],\n",
      "       fill_value='?',\n",
      "            dtype=object), 'param_preprocessing__stem__do_stem': masked_array(data=[True, False, True, False, True, False, True, False],\n",
      "             mask=[False, False, False, False, False, False, False, False],\n",
      "       fill_value='?',\n",
      "            dtype=object), 'params': [{'clf__max_depth': 2, 'preprocessing__stem__do_stem': True}, {'clf__max_depth': 2, 'preprocessing__stem__do_stem': False}, {'clf__max_depth': 4, 'preprocessing__stem__do_stem': True}, {'clf__max_depth': 4, 'preprocessing__stem__do_stem': False}, {'clf__max_depth': 8, 'preprocessing__stem__do_stem': True}, {'clf__max_depth': 8, 'preprocessing__stem__do_stem': False}, {'clf__max_depth': 12, 'preprocessing__stem__do_stem': True}, {'clf__max_depth': 12, 'preprocessing__stem__do_stem': False}], 'split0_test_score': array([0.00062966, 0.00062966, 0.00062966, 0.00062966, 0.00062966,\n",
      "       0.00062966, 0.00062966, 0.00062966]), 'split1_test_score': array([0.00062966, 0.00062966, 0.00062966, 0.00062966, 0.00062966,\n",
      "       0.00062966, 0.00062966, 0.00062966]), 'split2_test_score': array([0.00108251, 0.00108251, 0.00108251, 0.00108251, 0.00108251,\n",
      "       0.00108251, 0.00108251, 0.00108251]), 'split3_test_score': array([0.00062988, 0.00062988, 0.00062988, 0.00062988, 0.00062988,\n",
      "       0.00062988, 0.00062988, 0.00062988]), 'split4_test_score': array([0.00151551, 0.00151551, 0.00151551, 0.00151551, 0.00151551,\n",
      "       0.00151551, 0.00151551, 0.00151551]), 'mean_test_score': array([0.00089741, 0.00089741, 0.00089741, 0.00089741, 0.00089741,\n",
      "       0.00089741, 0.00089741, 0.00089741]), 'std_test_score': array([0.0003553, 0.0003553, 0.0003553, 0.0003553, 0.0003553, 0.0003553,\n",
      "       0.0003553, 0.0003553]), 'rank_test_score': array([1, 1, 1, 1, 1, 1, 1, 1], dtype=int32)}\n"
     ]
    }
   ],
   "source": [
    "print(Random_Forest_Clf.cross_val_result_summary)"
   ]
  },
  {
   "cell_type": "code",
   "execution_count": 20,
   "metadata": {},
   "outputs": [
    {
     "name": "stdout",
     "output_type": "stream",
     "text": [
      "0.0008974111389225606\n"
     ]
    }
   ],
   "source": [
    "print(Random_Forest_Clf.best_score)"
   ]
  },
  {
   "cell_type": "code",
   "execution_count": 21,
   "metadata": {},
   "outputs": [
    {
     "name": "stdout",
     "output_type": "stream",
     "text": [
      "{'preprocessing__stem__do_stem': (True, False), 'clf__alpha': (0, 0.5, 1), 'clf__fit_prior': (True, False)}\n",
      "Grid search for optimal hyper parameters\n",
      "Fitting 5 folds for each of 12 candidates, totalling 60 fits\n"
     ]
    },
    {
     "name": "stderr",
     "output_type": "stream",
     "text": [
      "[Parallel(n_jobs=16)]: Using backend LokyBackend with 16 concurrent workers.\n",
      "[Parallel(n_jobs=16)]: Done  18 tasks      | elapsed: 26.0min\n",
      "[Parallel(n_jobs=16)]: Done  60 out of  60 | elapsed: 54.2min finished\n"
     ]
    },
    {
     "name": "stdout",
     "output_type": "stream",
     "text": [
      "[Pipeline]  (step 1 of 1) Processing numerical_feat_gen, total= 1.4min\n"
     ]
    },
    {
     "name": "stderr",
     "output_type": "stream",
     "text": [
      "/home/dgxuser_layersvanguard/anaconda3/lib/python3.7/site-packages/sklearn/naive_bayes.py:485: UserWarning: alpha too small will result in numeric errors, setting alpha = 1.0e-10\n",
      "  'setting alpha = %.1e' % _ALPHA_MIN)\n"
     ]
    }
   ],
   "source": [
    "Multi_Naive_Bayes_Clf.fit(evaluation_metric = 'f1_weighted', hyperparameter_dict={'do_stem':(True,False),'alpha':(0,0.5,1),'fit_prior':(True, False)}, complete_search=True, n_cpus = 16)"
   ]
  },
  {
   "cell_type": "code",
   "execution_count": 23,
   "metadata": {},
   "outputs": [
    {
     "name": "stdout",
     "output_type": "stream",
     "text": [
      "{'mean_fit_time': array([658.43122325, 635.56680388, 661.173002  , 649.35050974,\n",
      "       671.99459572, 657.47097616, 673.84877334, 654.11074305,\n",
      "       673.62493868, 667.36068115, 672.34947567, 652.46672196]), 'std_fit_time': array([14.3199719 ,  7.66822301, 12.53123138, 16.12393543, 12.66029043,\n",
      "        9.03481268, 16.71410052, 11.19195097,  6.76737225, 16.57271423,\n",
      "        8.58102764, 12.75356785]), 'mean_score_time': array([153.53902926, 141.29496903, 153.31910319, 141.27906933,\n",
      "       148.94087462, 138.28285608, 152.47235408, 142.77034516,\n",
      "       160.43617067, 148.88212914, 142.98227124, 131.27360797]), 'std_score_time': array([ 8.84310684,  7.79194673,  9.59820781,  6.7719868 ,  7.77373387,\n",
      "       10.01573955,  7.65229882,  9.20893835, 10.25523001,  9.62628612,\n",
      "        8.69412317,  6.63000968]), 'param_clf__alpha': masked_array(data=[0, 0, 0, 0, 0.5, 0.5, 0.5, 0.5, 1, 1, 1, 1],\n",
      "             mask=[False, False, False, False, False, False, False, False,\n",
      "                   False, False, False, False],\n",
      "       fill_value='?',\n",
      "            dtype=object), 'param_clf__fit_prior': masked_array(data=[True, True, False, False, True, True, False, False,\n",
      "                   True, True, False, False],\n",
      "             mask=[False, False, False, False, False, False, False, False,\n",
      "                   False, False, False, False],\n",
      "       fill_value='?',\n",
      "            dtype=object), 'param_preprocessing__stem__do_stem': masked_array(data=[True, False, True, False, True, False, True, False,\n",
      "                   True, False, True, False],\n",
      "             mask=[False, False, False, False, False, False, False, False,\n",
      "                   False, False, False, False],\n",
      "       fill_value='?',\n",
      "            dtype=object), 'params': [{'clf__alpha': 0, 'clf__fit_prior': True, 'preprocessing__stem__do_stem': True}, {'clf__alpha': 0, 'clf__fit_prior': True, 'preprocessing__stem__do_stem': False}, {'clf__alpha': 0, 'clf__fit_prior': False, 'preprocessing__stem__do_stem': True}, {'clf__alpha': 0, 'clf__fit_prior': False, 'preprocessing__stem__do_stem': False}, {'clf__alpha': 0.5, 'clf__fit_prior': True, 'preprocessing__stem__do_stem': True}, {'clf__alpha': 0.5, 'clf__fit_prior': True, 'preprocessing__stem__do_stem': False}, {'clf__alpha': 0.5, 'clf__fit_prior': False, 'preprocessing__stem__do_stem': True}, {'clf__alpha': 0.5, 'clf__fit_prior': False, 'preprocessing__stem__do_stem': False}, {'clf__alpha': 1, 'clf__fit_prior': True, 'preprocessing__stem__do_stem': True}, {'clf__alpha': 1, 'clf__fit_prior': True, 'preprocessing__stem__do_stem': False}, {'clf__alpha': 1, 'clf__fit_prior': False, 'preprocessing__stem__do_stem': True}, {'clf__alpha': 1, 'clf__fit_prior': False, 'preprocessing__stem__do_stem': False}], 'split0_test_score': array([0.19809794, 0.19809794, 0.00474446, 0.00474446, 0.19809794,\n",
      "       0.19809794, 0.00474446, 0.00474446, 0.19809794, 0.19809794,\n",
      "       0.00474446, 0.00474446]), 'split1_test_score': array([0.19809794, 0.19809794, 0.00474446, 0.00474446, 0.19809794,\n",
      "       0.19809794, 0.00474446, 0.00474446, 0.19809794, 0.19809794,\n",
      "       0.00474446, 0.00474446]), 'split2_test_score': array([0.19814286, 0.19814286, 0.00473758, 0.00473758, 0.19814286,\n",
      "       0.19814286, 0.00473758, 0.00473758, 0.19814286, 0.19814286,\n",
      "       0.00473758, 0.00473758]), 'split3_test_score': array([0.19815784, 0.19815784, 0.00473798, 0.00473798, 0.19815784,\n",
      "       0.19815784, 0.00473798, 0.00473798, 0.19815784, 0.19815784,\n",
      "       0.00473798, 0.00473798]), 'split4_test_score': array([0.19820278, 0.19820278, 0.00473919, 0.00473919, 0.19820278,\n",
      "       0.19820278, 0.00473919, 0.00473919, 0.19820278, 0.19820278,\n",
      "       0.00473919, 0.00473919]), 'mean_test_score': array([0.19813987, 0.19813987, 0.00474074, 0.00474074, 0.19813987,\n",
      "       0.19813987, 0.00474074, 0.00474074, 0.19813987, 0.19813987,\n",
      "       0.00474074, 0.00474074]), 'std_test_score': array([3.95116420e-05, 3.95116420e-05, 3.09150866e-06, 3.09150866e-06,\n",
      "       3.95116420e-05, 3.95116420e-05, 3.09150866e-06, 3.09150866e-06,\n",
      "       3.95116420e-05, 3.95116420e-05, 3.09150866e-06, 3.09150866e-06]), 'rank_test_score': array([1, 1, 7, 7, 1, 1, 7, 7, 1, 1, 7, 7], dtype=int32)}\n"
     ]
    }
   ],
   "source": [
    "print(Multi_Naive_Bayes_Clf.cross_val_result_summary)"
   ]
  },
  {
   "cell_type": "code",
   "execution_count": 24,
   "metadata": {
    "scrolled": true
   },
   "outputs": [
    {
     "name": "stdout",
     "output_type": "stream",
     "text": [
      "0.19813986975162476\n"
     ]
    }
   ],
   "source": [
    "print(Multi_Naive_Bayes_Clf.best_score)"
   ]
  },
  {
   "cell_type": "markdown",
   "metadata": {},
   "source": [
    "We can clearly see from performance of three models, SVM outperforms every other model. "
   ]
  }
 ],
 "metadata": {
  "kernelspec": {
   "display_name": "Python 3",
   "language": "python",
   "name": "python3"
  },
  "language_info": {
   "codemirror_mode": {
    "name": "ipython",
    "version": 3
   },
   "file_extension": ".py",
   "mimetype": "text/x-python",
   "name": "python",
   "nbconvert_exporter": "python",
   "pygments_lexer": "ipython3",
   "version": "3.7.4"
  }
 },
 "nbformat": 4,
 "nbformat_minor": 2
}
