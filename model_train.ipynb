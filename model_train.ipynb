{
 "cells": [
  {
   "cell_type": "code",
   "execution_count": 1,
   "metadata": {},
   "outputs": [],
   "source": [
    "from model.model import * \n",
    "import configparser"
   ]
  },
  {
   "cell_type": "code",
   "execution_count": 2,
   "metadata": {},
   "outputs": [],
   "source": [
    "cfgParse = configparser.ConfigParser()\n",
    "cfgParse.read(\"model_train.cfg\")\n",
    "reddit_data_loc = \"data/train_data/reddit_posts.csv\"\n",
    "model_loc_folder = \".\""
   ]
  },
  {
   "cell_type": "code",
   "execution_count": 3,
   "metadata": {},
   "outputs": [],
   "source": [
    "Multi_Naive_Bayes_Clf_no_embedding = NBClfReddit(data_loc=reddit_data_loc,label_col='labels', empty_post_str_indicator='[deleted]', annotator_col='annotators',\n",
    "                 test_size=0.2)"
   ]
  },
  {
   "cell_type": "code",
   "execution_count": null,
   "metadata": {},
   "outputs": [
    {
     "name": "stdout",
     "output_type": "stream",
     "text": [
      "{'clf__alpha': (0, 0.5, 1), 'clf__fit_prior': (True, False)}\n",
      "Grid search for optimal hyper parameters\n",
      "Fitting 5 folds for each of 6 candidates, totalling 30 fits\n"
     ]
    },
    {
     "name": "stderr",
     "output_type": "stream",
     "text": [
      "[Parallel(n_jobs=4)]: Using backend LokyBackend with 4 concurrent workers.\n"
     ]
    }
   ],
   "source": [
    "Multi_Naive_Bayes_Clf_no_embedding.fit(evaluation_metric = 'f1_weighted', hyperparameter_dict={'do_stem':(True,False),'alpha':(0,0.5,1),'fit_prior':(True, False)}, complete_search=True, n_cpus = 4)"
   ]
  },
  {
   "cell_type": "code",
   "execution_count": null,
   "metadata": {},
   "outputs": [],
   "source": [
    "print(Multi_Naive_Bayes_Clf_no_embedding.cross_val_result_summary)"
   ]
  },
  {
   "cell_type": "code",
   "execution_count": null,
   "metadata": {
    "scrolled": true
   },
   "outputs": [],
   "source": [
    "print(Multi_Naive_Bayes_Clf_no_embedding.best_score)"
   ]
  },
  {
   "cell_type": "code",
   "execution_count": null,
   "metadata": {},
   "outputs": [],
   "source": [
    "Random_Forest_Clf_no_embedding = RandomForestClfReddit(data_loc=reddit_data_loc, empty_post_str_indicator='[deleted]', label_col='labels', annotator_col='annotators',\n",
    "                 test_size=0.2)"
   ]
  },
  {
   "cell_type": "code",
   "execution_count": null,
   "metadata": {
    "scrolled": false
   },
   "outputs": [],
   "source": [
    "Random_Forest_Clf_no_embedding.fit(evaluation_metric = 'f1_weighted', hyperparameter_dict={'do_stem':(True,False),'max_depth':(2,4,8,12)}, complete_search=True, n_cpus = 4) "
   ]
  },
  {
   "cell_type": "code",
   "execution_count": null,
   "metadata": {},
   "outputs": [],
   "source": [
    "print(Random_Forest_Clf_no_embedding.cross_val_result_summary)"
   ]
  },
  {
   "cell_type": "code",
   "execution_count": null,
   "metadata": {},
   "outputs": [],
   "source": [
    "print(Random_Forest_Clf_no_embedding.best_score)"
   ]
  },
  {
   "cell_type": "code",
   "execution_count": null,
   "metadata": {},
   "outputs": [],
   "source": [
    "SVM_Clf_no_embedding= SVMClfReddit(data_loc=reddit_data_loc, empty_post_str_indicator='[deleted]', label_col='labels', annotator_col='annotators', test_size=0.2)"
   ]
  },
  {
   "cell_type": "code",
   "execution_count": null,
   "metadata": {
    "scrolled": false
   },
   "outputs": [],
   "source": [
    "SVM_Clf_no_embedding.fit(evaluation_metric='f1_weighted', hyperparameter_dict={'do_stem': (True, False),\n",
    "                    'kernel': ('linear','rbf', 'poly'), \n",
    "                   'gamma':(0.001, 0.01, 0.1), \n",
    "                   'alpha': (0.01, 0.1, 0.5, 1, 2, 5), \n",
    "                   'l1_ratio': list(np.arange(0, 1.1, 0.2))}, complete_search=False,  n_cpus = 4)"
   ]
  },
  {
   "cell_type": "code",
   "execution_count": null,
   "metadata": {},
   "outputs": [],
   "source": [
    "print(SVM_Clf_no_embedding.cross_val_result_summary)"
   ]
  },
  {
   "cell_type": "code",
   "execution_count": null,
   "metadata": {},
   "outputs": [],
   "source": [
    "print(SVM_Clf_no_embedding.best_score)"
   ]
  },
  {
   "cell_type": "code",
   "execution_count": null,
   "metadata": {},
   "outputs": [],
   "source": [
    "SVM_Clf.save_model(\"svm_no_embedding_clf.pkl\")"
   ]
  },
  {
   "cell_type": "code",
   "execution_count": null,
   "metadata": {},
   "outputs": [],
   "source": [
    "Multi_Naive_Bayes_Clf = NBClfReddit(data_loc = reddit_data_loc, dim_word_vec=300,depth_post_col='depth',\n",
    "                 empty_post_str_indicator='[deleted]', label_col='labels', annotator_col='annotators',\n",
    "                 test_size=0.2)"
   ]
  },
  {
   "cell_type": "code",
   "execution_count": null,
   "metadata": {
    "scrolled": true
   },
   "outputs": [],
   "source": [
    "Multi_Naive_Bayes_Clf.fit(evaluation_metric = 'f1_weighted', hyperparameter_dict={'do_stem':(True,False),'alpha':(0,0.5,1),'fit_prior':(True, False)}, complete_search=True, n_cpus = 4)"
   ]
  },
  {
   "cell_type": "code",
   "execution_count": null,
   "metadata": {},
   "outputs": [],
   "source": [
    "print(Multi_Naive_Bayes_Clf.cross_val_result_summary)"
   ]
  },
  {
   "cell_type": "code",
   "execution_count": null,
   "metadata": {},
   "outputs": [],
   "source": [
    "print(Multi_Naive_Bayes_Clf.best_score)"
   ]
  },
  {
   "cell_type": "code",
   "execution_count": null,
   "metadata": {},
   "outputs": [],
   "source": [
    "Random_Forest_Clf = RandomForestClfReddit(data_loc = reddit_data_loc, dim_word_vec=300, depth_post_col='depth',\n",
    "                 empty_post_str_indicator='[deleted]', label_col='labels', annotator_col='annotators',\n",
    "                 test_size=0.2)"
   ]
  },
  {
   "cell_type": "code",
   "execution_count": null,
   "metadata": {},
   "outputs": [],
   "source": [
    "Random_Forest_Clf.fit(evaluation_metric = 'f1_weighted', hyperparameter_dict={'do_stem':(True,False),'max_depth':(2,4,8,12)}, complete_search=True, n_cpus = 4) "
   ]
  },
  {
   "cell_type": "code",
   "execution_count": null,
   "metadata": {},
   "outputs": [],
   "source": [
    "print(Random_Forest_Clf_Clf.cross_val_result_summary)"
   ]
  },
  {
   "cell_type": "code",
   "execution_count": null,
   "metadata": {},
   "outputs": [],
   "source": [
    "print(Random_Forest_Clf_Clf.cross_val_result_summary)"
   ]
  },
  {
   "cell_type": "code",
   "execution_count": null,
   "metadata": {},
   "outputs": [],
   "source": [
    "SVM_Clf= SVMClfReddit(data_loc = reddit_data_loc, dim_word_vec = 300, depth_post_col='depth',\n",
    "                 empty_post_str_indicator='[deleted]', label_col='labels', annotator_col='annotators',\n",
    "                 test_size=0.2)"
   ]
  },
  {
   "cell_type": "code",
   "execution_count": null,
   "metadata": {},
   "outputs": [],
   "source": [
    "SVM_Clf.fit(evaluation_metric = 'f1_weighted', hyperparameter_dict={'do_stem':(True,False),\n",
    "                    'kernel': ('linear','rbf', 'poly'), \n",
    "                   'gamma':(0.001, 0.01, 0.1), \n",
    "                   'alpha': (0.01, 0.1, 0.5, 1, 2, 5), \n",
    "                   'l1_ratio': list(np.arange(0, 1.1, 0.2))}, complete_search=False,  n_cpus = 4)"
   ]
  },
  {
   "cell_type": "markdown",
   "metadata": {},
   "source": [
    "We can clearly see from performance of three models, SVM outperforms every other model. "
   ]
  },
  {
   "cell_type": "code",
   "execution_count": null,
   "metadata": {},
   "outputs": [],
   "source": []
  }
 ],
 "metadata": {
  "kernelspec": {
   "display_name": "Python 3",
   "language": "python",
   "name": "python3"
  },
  "language_info": {
   "codemirror_mode": {
    "name": "ipython",
    "version": 3
   },
   "file_extension": ".py",
   "mimetype": "text/x-python",
   "name": "python",
   "nbconvert_exporter": "python",
   "pygments_lexer": "ipython3",
   "version": "3.7.3"
  }
 },
 "nbformat": 4,
 "nbformat_minor": 2
}
